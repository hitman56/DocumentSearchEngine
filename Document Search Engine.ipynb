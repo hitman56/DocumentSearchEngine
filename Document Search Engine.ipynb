{
 "cells": [
  {
   "cell_type": "markdown",
   "metadata": {},
   "source": [
    "# Document Search Engine "
   ]
  },
  {
   "cell_type": "code",
   "execution_count": 1,
   "metadata": {},
   "outputs": [],
   "source": [
    "import pandas as pd\n",
    "import numpy as np\n",
    "import os \n",
    "import re\n",
    "import operator\n",
    "import nltk \n",
    "from nltk.tokenize import word_tokenize\n",
    "from nltk import pos_tag\n",
    "from nltk.corpus import stopwords\n",
    "from nltk.stem import WordNetLemmatizer\n",
    "from collections import defaultdict\n",
    "from nltk.corpus import wordnet as wn\n",
    "from sklearn.feature_extraction.text import TfidfVectorizer\n"
   ]
  },
  {
   "cell_type": "markdown",
   "metadata": {},
   "source": [
    "## Data loading"
   ]
  },
  {
   "cell_type": "code",
   "execution_count": 2,
   "metadata": {},
   "outputs": [],
   "source": [
    "news = pd.read_json('https://raw.githubusercontent.com/zayedrais/DocumentSearchEngine/master/data/newsgroups.json')\n"
   ]
  },
  {
   "cell_type": "markdown",
   "metadata": {},
   "source": [
    "### Document Subject retrieving form data"
   ]
  },
  {
   "cell_type": "code",
   "execution_count": 3,
   "metadata": {},
   "outputs": [],
   "source": [
    "for i,txt in enumerate(news['content']):\n",
    "    #print(i)\n",
    "    subject = re.findall('Subject:(.*\\n)',txt)\n",
    "    if (len(subject) !=0):\n",
    "        news.loc[i,'Subject'] =str(i)+' '+subject[0]\n",
    "    else:\n",
    "        news.loc[i,'Subject'] ='NA'"
   ]
  },
  {
   "cell_type": "code",
   "execution_count": 4,
   "metadata": {},
   "outputs": [],
   "source": [
    "df_news =news[['Subject','content']]"
   ]
  },
  {
   "cell_type": "markdown",
   "metadata": {},
   "source": [
    "## Data Cleaning and Pre-processing"
   ]
  },
  {
   "cell_type": "code",
   "execution_count": 5,
   "metadata": {},
   "outputs": [
    {
     "name": "stderr",
     "output_type": "stream",
     "text": [
      "/home/zettadevs/anaconda3/lib/python3.7/site-packages/ipykernel_launcher.py:2: SettingWithCopyWarning: \n",
      "A value is trying to be set on a copy of a slice from a DataFrame.\n",
      "Try using .loc[row_indexer,col_indexer] = value instead\n",
      "\n",
      "See the caveats in the documentation: http://pandas.pydata.org/pandas-docs/stable/user_guide/indexing.html#returning-a-view-versus-a-copy\n",
      "  \n"
     ]
    }
   ],
   "source": [
    "# Change all the text to lower case. This is required as python interprets 'dog' and 'DOG' differently\n",
    "df_news['content']=[entry.lower() for entry in df_news['content']]"
   ]
  },
  {
   "cell_type": "code",
   "execution_count": 6,
   "metadata": {},
   "outputs": [],
   "source": [
    "SW=['subject:','organization:','thanks','thank','re:']"
   ]
  },
  {
   "cell_type": "code",
   "execution_count": 7,
   "metadata": {},
   "outputs": [
    {
     "name": "stderr",
     "output_type": "stream",
     "text": [
      "/home/zettadevs/anaconda3/lib/python3.7/site-packages/pandas/core/generic.py:5208: SettingWithCopyWarning: \n",
      "A value is trying to be set on a copy of a slice from a DataFrame.\n",
      "Try using .loc[row_indexer,col_indexer] = value instead\n",
      "\n",
      "See the caveats in the documentation: http://pandas.pydata.org/pandas-docs/stable/user_guide/indexing.html#returning-a-view-versus-a-copy\n",
      "  self[name] = value\n"
     ]
    }
   ],
   "source": [
    "for sw in SW:\n",
    "    df_news.content=df_news.content.replace(to_replace=sw,value='',regex=True)"
   ]
  },
  {
   "cell_type": "code",
   "execution_count": 8,
   "metadata": {},
   "outputs": [],
   "source": [
    "## data Cleaning for content data of news\n",
    "df_news.content =df_news.content.replace(to_replace='from:(.*\\n)',value='',regex=True) #remove from to email \n",
    "df_news.content =df_news.content.replace(to_replace='lines:(.*\\n)',value='',regex=True)\n",
    "df_news.content =df_news.content.replace(to_replace='[!\"#$%&\\'()*+,/:;<=>?@[\\\\]^_`{|}~]',value=' ',regex=True) #remove punctuation except\n",
    "df_news.content =df_news.content.replace(to_replace='-',value=' ',regex=True)\n",
    "df_news.content =df_news.content.replace(to_replace='\\s+',value=' ',regex=True)    #remove new line\n",
    "df_news.content =df_news.content.replace(to_replace='  ',value='',regex=True)                #remove double white space\n",
    "df_news.content =df_news.content.apply(lambda x:x.strip())  # Ltrim and Rtrim of whitespace"
   ]
  },
  {
   "cell_type": "code",
   "execution_count": 9,
   "metadata": {},
   "outputs": [],
   "source": [
    "## data cleaning for subject data \n",
    "df_news.Subject =df_news.Subject.replace(to_replace='Re:',value='',regex=True)\n",
    "df_news.Subject =df_news.Subject.replace(to_replace='[!\"#$%&\\'()*+,-./:;<=>?@[\\\\]^_`{|}~]',value=' ',regex=True)\n",
    "df_news.Subject =df_news.Subject.replace(to_replace='\\s+',value=' ',regex=True)    #remove new line\n",
    "df_news.Subject =df_news.Subject.replace(to_replace='  ',value='',regex=True)    #remove double white space\n",
    "df_news.Subject =df_news.Subject.apply(lambda x:x.strip())"
   ]
  },
  {
   "cell_type": "markdown",
   "metadata": {},
   "source": [
    "### Checking  and dropempty data rows"
   ]
  },
  {
   "cell_type": "code",
   "execution_count": 10,
   "metadata": {},
   "outputs": [],
   "source": [
    "## ## Checking  and drop empty data\n",
    "for i,sen in enumerate(df_news.content):\n",
    "    if len(sen.strip()) ==0:\n",
    "        print(str(i))\n",
    "        #file_data.text[i] = np.nan\n",
    "        df_news=df_news.drop(str(i),axis=0).reset_index().drop('index',axis=1)"
   ]
  },
  {
   "cell_type": "markdown",
   "metadata": {},
   "source": [
    "### Word Tokenization"
   ]
  },
  {
   "cell_type": "code",
   "execution_count": 11,
   "metadata": {},
   "outputs": [
    {
     "name": "stderr",
     "output_type": "stream",
     "text": [
      "/home/zettadevs/anaconda3/lib/python3.7/site-packages/ipykernel_launcher.py:2: SettingWithCopyWarning: \n",
      "A value is trying to be set on a copy of a slice from a DataFrame.\n",
      "Try using .loc[row_indexer,col_indexer] = value instead\n",
      "\n",
      "See the caveats in the documentation: http://pandas.pydata.org/pandas-docs/stable/user_guide/indexing.html#returning-a-view-versus-a-copy\n",
      "  \n"
     ]
    }
   ],
   "source": [
    "# okenization : In this each entry in the file_data will be broken into set of words\n",
    "df_news['Word tokenize']= [word_tokenize(entry) for entry in df_news.content]"
   ]
  },
  {
   "cell_type": "markdown",
   "metadata": {},
   "source": [
    "### Word Lemmatization"
   ]
  },
  {
   "cell_type": "code",
   "execution_count": 12,
   "metadata": {},
   "outputs": [],
   "source": [
    "# WordNetLemmatizer requires Pos tags to understand if the word is noun or verb or adjective etc. By default it is set to Noun\n",
    "def wordLemmatizer(data):\n",
    "    tag_map = defaultdict(lambda : wn.NOUN)\n",
    "    tag_map['J'] = wn.ADJ\n",
    "    tag_map['V'] = wn.VERB\n",
    "    tag_map['R'] = wn.ADV\n",
    "    file_clean_k =pd.DataFrame()\n",
    "    for index,entry in enumerate(data):\n",
    "        \n",
    "        # Declaring Empty List to store the words that follow the rules for this step\n",
    "        Final_words = []\n",
    "        # Initializing WordNetLemmatizer()\n",
    "        word_Lemmatized = WordNetLemmatizer()\n",
    "        # pos_tag function below will provide the 'tag' i.e if the word is Noun(N) or Verb(V) or something else.\n",
    "        for word, tag in pos_tag(entry):\n",
    "            # Below condition is to check for Stop words and consider only alphabets\n",
    "            if len(word)>1 and word not in stopwords.words('english') and word.isalpha():\n",
    "                word_Final = word_Lemmatized.lemmatize(word,tag_map[tag[0]])\n",
    "                Final_words.append(word_Final)\n",
    "            # The final processed set of words for each iteration will be stored in 'text_final'\n",
    "        file_clean_k.loc[index,'Keyword_final'] = str(Final_words)\n",
    "        
    "    file_clean_k=file_clean_k.replace(to_replace =\"\\[.\", value = '', regex = True)\n",
    "    file_clean_k=file_clean_k.replace(to_replace =\"'\", value = '', regex = True)\n",
    "    file_clean_k=file_clean_k.replace(to_replace =\" \", value = '', regex = True)\n",
    "    file_clean_k=file_clean_k.replace(to_replace ='\\]', value = '', regex = True)\n",
    "    return file_clean_k"
   ]
  },
  {
   "cell_type": "code",
   "execution_count": 13,
   "metadata": {},
   "outputs": [
    {
     "data": {
      "text/plain": [
       "(11314, 3)"
      ]
     },
     "execution_count": 13,
     "metadata": {},
     "output_type": "execute_result"
    }
   ],
   "source": [
    "df_news.shape "
   ]
  },
  {
   "cell_type": "code",
   "execution_count": 130,
   "metadata": {},
   "outputs": [
    {
     "name": "stdout",
     "output_type": "stream",
     "text": [
      "['i', 'me', 'my', 'myself', 'we', 'our', 'ours', 'ourselves', 'you', \"you're\", \"you've\", \"you'll\", \"you'd\", 'your', 'yours', 'yourself', 'yourselves', 'he', 'him', 'his', 'himself', 'she', \"she's\", 'her', 'hers', 'herself', 'it', \"it's\", 'its', 'itself', 'they', 'them', 'their', 'theirs', 'themselves', 'what', 'which', 'who', 'whom', 'this', 'that', \"that'll\", 'these', 'those', 'am', 'is', 'are', 'was', 'were', 'be', 'been', 'being', 'have', 'has', 'had', 'having', 'do', 'does', 'did', 'doing', 'a', 'an', 'the', 'and', 'but', 'if', 'or', 'because', 'as', 'until', 'while', 'of', 'at', 'by', 'for', 'with', 'about', 'against', 'between', 'into', 'through', 'during', 'before', 'after', 'above', 'below', 'to', 'from', 'up', 'down', 'in', 'out', 'on', 'off', 'over', 'under', 'again', 'further', 'then', 'once', 'here', 'there', 'when', 'where', 'why', 'how', 'all', 'any', 'both', 'each', 'few', 'more', 'most', 'other', 'some', 'such', 'no', 'nor', 'not', 'only', 'own', 'same', 'so', 'than', 'too', 'very', 's', 't', 'can', 'will', 'just', 'don', \"don't\", 'should', \"should've\", 'now', 'd', 'll', 'm', 'o', 're', 've', 'y', 'ain', 'aren', \"aren't\", 'couldn', \"couldn't\", 'didn', \"didn't\", 'doesn', \"doesn't\", 'hadn', \"hadn't\", 'hasn', \"hasn't\", 'haven', \"haven't\", 'isn', \"isn't\", 'ma', 'mightn', \"mightn't\", 'mustn', \"mustn't\", 'needn', \"needn't\", 'shan', \"shan't\", 'shouldn', \"shouldn't\", 'wasn', \"wasn't\", 'weren', \"weren't\", 'won', \"won't\", 'wouldn', \"wouldn't\"]\n"
     ]
    }
   ],
   "source": [
    "print(stopwords.words('english'))"
   ]
  },
  {
   "cell_type": "code",
   "execution_count": 139,
   "metadata": {},
   "outputs": [
    {
     "data": {
      "text/html": [
       "<div>\n",
       "<style scoped>\n",
       "    .dataframe tbody tr th:only-of-type {\n",
       "        vertical-align: middle;\n",
       "    }\n",
       "\n",
       "    .dataframe tbody tr th {\n",
       "        vertical-align: top;\n",
       "    }\n",
       "\n",
       "    .dataframe thead th {\n",
       "        text-align: right;\n",
       "    }\n",
       "</style>\n",
       "<table border=\"1\" class=\"dataframe\">\n",
       "  <thead>\n",
       "    <tr style=\"text-align: right;\">\n",
       "      <th></th>\n",
       "      <th>Keyword_final</th>\n",
       "    </tr>\n",
       "  </thead>\n",
       "  <tbody>\n",
       "    <tr>\n",
       "      <th>0</th>\n",
       "      <td>car,nntp,post,host,university,maryland,college...</td>\n",
       "    </tr>\n",
       "    <tr>\n",
       "      <th>1</th>\n",
       "      <td>si,clock,poll,final,call,summary,final,call,si...</td>\n",
       "    </tr>\n",
       "    <tr>\n",
       "      <th>2</th>\n",
       "      <td>pb,question,purdue,university,engineering,comp...</td>\n",
       "    </tr>\n",
       "    <tr>\n",
       "      <th>3</th>\n",
       "      <td>weitek,harris,computer,system,division,distrib...</td>\n",
       "    </tr>\n",
       "    <tr>\n",
       "      <th>4</th>\n",
       "      <td>shuttle,launch,question,smithsonian,astrophysi...</td>\n",
       "    </tr>\n",
       "    <tr>\n",
       "      <th>5</th>\n",
       "      <td>reword,second,amendment,idea,vtt,article,cdt,t...</td>\n",
       "    </tr>\n",
       "    <tr>\n",
       "      <th>6</th>\n",
       "      <td>brain,tumor,treatment,reply,bmdelane,universit...</td>\n",
       "    </tr>\n",
       "    <tr>\n",
       "      <th>7</th>\n",
       "      <td>ide,vs,scsi,new,mexico,state,university,la,cru...</td>\n",
       "    </tr>\n",
       "    <tr>\n",
       "      <th>8</th>\n",
       "      <td>win,icon,help,please,university,northern,iowa,...</td>\n",
       "    </tr>\n",
       "    <tr>\n",
       "      <th>9</th>\n",
       "      <td>sigma,design,double,article,university,illinoi...</td>\n",
       "    </tr>\n",
       "  </tbody>\n",
       "</table>\n",
       "</div>"
      ],
      "text/plain": [
       "                                       Keyword_final\n",
       "0  car,nntp,post,host,university,maryland,college...\n",
       "1  si,clock,poll,final,call,summary,final,call,si...\n",
       "2  pb,question,purdue,university,engineering,comp...\n",
       "3  weitek,harris,computer,system,division,distrib...\n",
       "4  shuttle,launch,question,smithsonian,astrophysi...\n",
       "5  reword,second,amendment,idea,vtt,article,cdt,t...\n",
       "6  brain,tumor,treatment,reply,bmdelane,universit...\n",
       "7  ide,vs,scsi,new,mexico,state,university,la,cru...\n",
       "8  win,icon,help,please,university,northern,iowa,...\n",
       "9  sigma,design,double,article,university,illinoi..."
      ]
     },
     "execution_count": 139,
     "metadata": {},
     "output_type": "execute_result"
    }
   ],
   "source": [
    "## This Function took around 13 hours for word Lemmatized and remove the Stop words & single character of word of each 11314 rows.\n",
    "df_clean = wordLemmatizer(df_news['Word tokenize'][0:10]) \n",
    "df_clean"
   ]
  },
  {
   "cell_type": "markdown",
   "metadata": {},
   "source": [
    "### Added WordLemmatize words into given dataframe"
   ]
  },
  {
   "cell_type": "code",
   "execution_count": 19,
   "metadata": {},
   "outputs": [],
   "source": [
    "## Insert New column in df_news to stored the Clean Keyword\n",
    "df_news.insert(loc=3, column='Clean_Keyword', value=df_clean['Keyword_final'].tolist())"
   ]
  },
  {
   "cell_type": "code",
   "execution_count": 15,
   "metadata": {},
   "outputs": [],
   "source": [
    "## Already Word lemmatize clean keywords the below path:-\n",
    "\n",
    "#df_news[['Subject','Clean_Keyword']].to_json(\"WordLemmatize20NewsGroup.json\")\n",
    "df =pd.read_json('https://raw.githubusercontent.com/zayedrais/DocumentSearchEngine/master/data/WordLemmatize20NewsGroup.json')\n",
    "df_news['Clean_Keyword'] =df['Clean_Keyword']"
   ]
  },
  {
   "cell_type": "code",
   "execution_count": 16,
   "metadata": {},
   "outputs": [
    {
     "data": {
      "text/plain": [
       "'thing,car,nntp,post,host,university,maryland,college,park,line,wonder,anyone,could,enlighten,car,saw,day,sport,car,look,late,early,call,bricklin,door,really,small,addition,front,bumper,separate,rest,body,know,anyone,tellme,model,name,engine,spec,year,production,car,make,history,whatever,info,funky,look,car,please,mail,il,bring,neighborhood,lerxst'"
      ]
     },
     "execution_count": 16,
     "metadata": {},
     "output_type": "execute_result"
    }
   ],
   "source": [
    "## Sample of clean keywords\n",
    "df_news.Clean_Keyword[0]"
   ]
  },
  {
   "cell_type": "markdown",
   "metadata": {},
   "source": [
    "# 1. Create document search engine with TF-IDF"
   ]
  },
  {
   "cell_type": "markdown",
   "metadata": {},
   "source": [
    "### TF-IDF by using  TfidfVectorizer from sklearn.feature_extraction.text"
   ]
  },
  {
   "cell_type": "code",
   "execution_count": 17,
   "metadata": {},
   "outputs": [],
   "source": [
    "from sklearn.feature_extraction.text import TfidfVectorizer\n",
    "import operator\n",
    "\n",
    "## Create Vocabulary\n",
    "vocabulary = set()\n",
    "\n",
    "for doc in df_news.Clean_Keyword:\n",
    "    vocabulary.update(doc.split(','))\n",
    "\n",
    "vocabulary = list(vocabulary)\n",
    "\n",
    "# Intializating the tfIdf model\n",
    "tfidf = TfidfVectorizer(vocabulary=vocabulary)\n",
    "\n",
    "# Fit the TfIdf model\n",
    "tfidf.fit(df_news.Clean_Keyword)\n",
    "\n",
    "# Transform the TfIdf model\n",
    "tfidf_tran=tfidf.transform(df_news.Clean_Keyword)\n"
   ]
  },
  {
   "cell_type": "code",
   "execution_count": 18,
   "metadata": {},
   "outputs": [
    {
     "data": {
      "text/plain": [
       "['shoham', 'bures', 'schwabians', 'dangle']"
      ]
     },
     "execution_count": 18,
     "metadata": {},
     "output_type": "execute_result"
    }
   ],
   "source": [
    "vocabulary[0:4]"
   ]
  },
  {
   "cell_type": "markdown",
   "metadata": {},
   "source": [
    "### Create vector for Query/search keywords"
   ]
  },
  {
   "cell_type": "code",
   "execution_count": 19,
   "metadata": {},
   "outputs": [],
   "source": [
    "## Create vector for Query/search keywords\n",
    "def gen_vector_T(tokens):\n",
    "\n",
    "    Q = np.zeros((len(vocabulary)))\n",
    "    \n",
    "    x= tfidf.transform(tokens)\n",
    "    #print(tokens[0].split(','))\n",
    "    for token in tokens[0].split(','):\n",
    "        #print(token)\n",
    "        try:\n",
    "            ind = vocabulary.index(token)\n",
    "            #print(ind)\n",
    "            #Q[ind] = tf*idf\n",
    "            Q[ind]  = x[0, tfidf.vocabulary_[token]]\n",
    "        except:\n",
    "            pass\n",
    "    return Q"
   ]
  },
  {
   "cell_type": "code",
   "execution_count": 20,
   "metadata": {},
   "outputs": [
    {
     "data": {
      "text/plain": [
       "(11314, 62840)"
      ]
     },
     "execution_count": 20,
     "metadata": {},
     "output_type": "execute_result"
    }
   ],
   "source": [
    "tfidf_tran.A.shape"
   ]
  },
  {
   "cell_type": "markdown",
   "metadata": {},
   "source": [
    "### Calculate Cosine Similarity with formula "
   ]
  },
  {
   "cell_type": "code",
   "execution_count": 21,
   "metadata": {},
   "outputs": [],
   "source": [
    "def cosine_sim(a, b):\n",
    "    cos_sim = np.dot(a, b)/(np.linalg.norm(a)*np.linalg.norm(b))\n",
    "    return cos_sim"
   ]
  },
  {
   "cell_type": "markdown",
   "metadata": {},
   "source": [
    "### Calculate Cosine similarity of trained Tfidf to input query"
   ]
  },
  {
   "cell_type": "code",
   "execution_count": 22,
   "metadata": {},
   "outputs": [],
   "source": [
    "def cosine_similarity_T(k, query):\n",
    "    #print(\"Cosine Similarity\")\n",
    "    preprocessed_query = preprocessed_query = re.sub(\"\\W+\", \" \", query).strip()\n",
    "    tokens = word_tokenize(str(preprocessed_query))\n",
    "    q_df = pd.DataFrame(columns=['q_clean'])\n",
    "    q_df.loc[0,'q_clean'] =tokens\n",
    "    q_df['q_clean'] =wordLemmatizer(q_df.q_clean)\n",
    "    #print(\"\\nQuery:\", query)\n",
    "    #print(\"\")\n",
    "    #print(tokens)\n",
    "    \n",
    "    d_cosines = []\n",
    "    \n",
    "    query_vector = gen_vector_T(q_df['q_clean'])\n",
    "    \n",
    "    for d in tfidf_tran.A:\n",
    "        \n",
    "        d_cosines.append(cosine_sim(query_vector, d))\n",
    "                    \n",
    "    out = np.array(d_cosines).argsort()[-k:][::-1]\n",
    "    #print(\"\")\n",
    "    d_cosines.sort()\n",
    "    #print(out)\n",
    "    a = pd.DataFrame()\n",
    "    for i,index in enumerate(out):\n",
    "        a.loc[i,'index'] = str(index)\n",
    "        a.loc[i,'Subject'] = df_news['Subject'][index]\n",
    "    for j,simScore in enumerate(d_cosines[-k:][::-1]):\n",
    "        a.loc[j,'Score'] = simScore\n",
    "    return a"
   ]
  },
  {
   "cell_type": "code",
   "execution_count": 23,
   "metadata": {},
   "outputs": [
    {
     "name": "stdout",
     "output_type": "stream",
     "text": [
      "CPU times: user 2.57 s, sys: 1.47 s, total: 4.04 s\n",
      "Wall time: 2.83 s\n"
     ]
    },
    {
     "data": {
      "text/html": [
       "<div>\n",
       "<style scoped>\n",
       "    .dataframe tbody tr th:only-of-type {\n",
       "        vertical-align: middle;\n",
       "    }\n",
       "\n",
       "    .dataframe tbody tr th {\n",
       "        vertical-align: top;\n",
       "    }\n",
       "\n",
       "    .dataframe thead th {\n",
       "        text-align: right;\n",
       "    }\n",
       "</style>\n",
       "<table border=\"1\" class=\"dataframe\">\n",
       "  <thead>\n",
       "    <tr style=\"text-align: right;\">\n",
       "      <th></th>\n",
       "      <th>index</th>\n",
       "      <th>Subject</th>\n",
       "      <th>Score</th>\n",
       "    </tr>\n",
       "  </thead>\n",
       "  <tbody>\n",
       "    <tr>\n",
       "      <th>0</th>\n",
       "      <td>2231</td>\n",
       "      <td>2231 Computer Engr vs Computer Science</td>\n",
       "      <td>0.396137</td>\n",
       "    </tr>\n",
       "    <tr>\n",
       "      <th>1</th>\n",
       "      <td>10340</td>\n",
       "      <td>10340 Science and Methodology</td>\n",
       "      <td>0.302603</td>\n",
       "    </tr>\n",
       "    <tr>\n",
       "      <th>2</th>\n",
       "      <td>4173</td>\n",
       "      <td>4173 Rawlins debunks creationism</td>\n",
       "      <td>0.284936</td>\n",
       "    </tr>\n",
       "    <tr>\n",
       "      <th>3</th>\n",
       "      <td>4326</td>\n",
       "      <td>4326 Computer Engr vs Computer Science</td>\n",
       "      <td>0.284256</td>\n",
       "    </tr>\n",
       "    <tr>\n",
       "      <th>4</th>\n",
       "      <td>6921</td>\n",
       "      <td>6921 Automatic layout of state diagrams</td>\n",
       "      <td>0.260732</td>\n",
       "    </tr>\n",
       "    <tr>\n",
       "      <th>5</th>\n",
       "      <td>7618</td>\n",
       "      <td>7618 Solution Why do I need xrdb m when Xdefau...</td>\n",
       "      <td>0.251170</td>\n",
       "    </tr>\n",
       "    <tr>\n",
       "      <th>6</th>\n",
       "      <td>5741</td>\n",
       "      <td>5741 Rawlins debunks creationism</td>\n",
       "      <td>0.247442</td>\n",
       "    </tr>\n",
       "    <tr>\n",
       "      <th>7</th>\n",
       "      <td>8464</td>\n",
       "      <td>8464 Date is stuck</td>\n",
       "      <td>0.238985</td>\n",
       "    </tr>\n",
       "    <tr>\n",
       "      <th>8</th>\n",
       "      <td>3177</td>\n",
       "      <td>3177 Homeopathy a respectable medical tradition</td>\n",
       "      <td>0.235738</td>\n",
       "    </tr>\n",
       "    <tr>\n",
       "      <th>9</th>\n",
       "      <td>4366</td>\n",
       "      <td>4366 Computer Engr vs Computer Science</td>\n",
       "      <td>0.227186</td>\n",
       "    </tr>\n",
       "  </tbody>\n",
       "</table>\n",
       "</div>"
      ],
      "text/plain": [
       "   index                                            Subject     Score\n",
       "0   2231             2231 Computer Engr vs Computer Science  0.396137\n",
       "1  10340                      10340 Science and Methodology  0.302603\n",
       "2   4173                   4173 Rawlins debunks creationism  0.284936\n",
       "3   4326             4326 Computer Engr vs Computer Science  0.284256\n",
       "4   6921            6921 Automatic layout of state diagrams  0.260732\n",
       "5   7618  7618 Solution Why do I need xrdb m when Xdefau...  0.251170\n",
       "6   5741                   5741 Rawlins debunks creationism  0.247442\n",
       "7   8464                                 8464 Date is stuck  0.238985\n",
       "8   3177    3177 Homeopathy a respectable medical tradition  0.235738\n",
       "9   4366             4366 Computer Engr vs Computer Science  0.227186"
      ]
     },
     "execution_count": 23,
     "metadata": {},
     "output_type": "execute_result"
    }
   ],
   "source": [
    "%time cosine_similarity_T(10,'computer science')\n",
    "#df_news['Subject']"
   ]
  },
  {
   "cell_type": "code",
   "execution_count": 24,
   "metadata": {},
   "outputs": [
    {
     "data": {
      "text/plain": [
       "'computer engr vs. computer science distribution usa ncr microelectronics products division an at t company in article 1993apr10.210242.340 macadam.com mike macadam.com writes i am a freshman in college and can t decide whether to major in computer engineering or computer science. any advice or suggestions will be appreciated. mike a professor of mine once said the difference between a computer engineer and a computer scientist is about 5000 meaning the engineer makes 5000 more than the cs. seriously though the main difference is that most cs people write programs that people will use i.e. database graphics word processors etc. while an engineer writes for machines or control systems i.e. the computer in your car a flight control system computer controled devices etc. in other words cs writes software while cse writes firmware. these are generalizations but for the most part that is what the difference is. p.s. the 5000 is not just a joke scott'"
      ]
     },
     "execution_count": 24,
     "metadata": {},
     "output_type": "execute_result"
    }
   ],
   "source": [
    "df_news.content[2231]"
   ]
  },
  {
   "cell_type": "markdown",
   "metadata": {},
   "source": [
    "# 2. Document Search Engine with Google Universal Sentence Encoder"
   ]
  },
  {
   "cell_type": "code",
   "execution_count": 207,
   "metadata": {},
   "outputs": [
    {
     "name": "stdout",
     "output_type": "stream",
     "text": [
      "Requirement already up-to-date: tensorflow-gpu in ./anaconda3/lib/python3.7/site-packages (2.1.0)\n",
      "Requirement already satisfied, skipping upgrade: astor>=0.6.0 in ./anaconda3/lib/python3.7/site-packages (from tensorflow-gpu) (0.8.1)\n",
      "Requirement already satisfied, skipping upgrade: scipy==1.4.1; python_version >= \"3\" in ./anaconda3/lib/python3.7/site-packages (from tensorflow-gpu) (1.4.1)\n",
      "Requirement already satisfied, skipping upgrade: google-pasta>=0.1.6 in ./anaconda3/lib/python3.7/site-packages (from tensorflow-gpu) (0.1.8)\n",
      "Requirement already satisfied, skipping upgrade: absl-py>=0.7.0 in ./anaconda3/lib/python3.7/site-packages (from tensorflow-gpu) (0.9.0)\n",
      "Requirement already satisfied, skipping upgrade: keras-preprocessing>=1.1.0 in ./anaconda3/lib/python3.7/site-packages (from tensorflow-gpu) (1.1.0)\n",
      "Requirement already satisfied, skipping upgrade: opt-einsum>=2.3.2 in ./anaconda3/lib/python3.7/site-packages (from tensorflow-gpu) (3.1.0)\n",
      "Requirement already satisfied, skipping upgrade: protobuf>=3.8.0 in ./anaconda3/lib/python3.7/site-packages (from tensorflow-gpu) (3.11.2)\n",
      "Requirement already satisfied, skipping upgrade: tensorboard<2.2.0,>=2.1.0 in ./anaconda3/lib/python3.7/site-packages (from tensorflow-gpu) (2.1.0)\n",
      "Requirement already satisfied, skipping upgrade: termcolor>=1.1.0 in ./anaconda3/lib/python3.7/site-packages (from tensorflow-gpu) (1.1.0)\n",
      "Requirement already satisfied, skipping upgrade: tensorflow-estimator<2.2.0,>=2.1.0rc0 in ./anaconda3/lib/python3.7/site-packages (from tensorflow-gpu) (2.1.0)\n",
      "Requirement already satisfied, skipping upgrade: six>=1.12.0 in ./anaconda3/lib/python3.7/site-packages (from tensorflow-gpu) (1.13.0)\n",
      "Requirement already satisfied, skipping upgrade: wheel>=0.26; python_version >= \"3\" in ./anaconda3/lib/python3.7/site-packages (from tensorflow-gpu) (0.33.6)\n",
      "Requirement already satisfied, skipping upgrade: keras-applications>=1.0.8 in ./anaconda3/lib/python3.7/site-packages (from tensorflow-gpu) (1.0.8)\n",
      "Requirement already satisfied, skipping upgrade: grpcio>=1.8.6 in ./anaconda3/lib/python3.7/site-packages (from tensorflow-gpu) (1.26.0)\n",
      "Requirement already satisfied, skipping upgrade: gast==0.2.2 in ./anaconda3/lib/python3.7/site-packages (from tensorflow-gpu) (0.2.2)\n",
      "Requirement already satisfied, skipping upgrade: numpy<2.0,>=1.16.0 in ./anaconda3/lib/python3.7/site-packages (from tensorflow-gpu) (1.17.4)\n",
      "Requirement already satisfied, skipping upgrade: wrapt>=1.11.1 in ./anaconda3/lib/python3.7/site-packages (from tensorflow-gpu) (1.11.2)\n",
      "Requirement already satisfied, skipping upgrade: setuptools in ./anaconda3/lib/python3.7/site-packages (from protobuf>=3.8.0->tensorflow-gpu) (44.0.0.post20200106)\n",
      "Requirement already satisfied, skipping upgrade: google-auth-oauthlib<0.5,>=0.4.1 in ./anaconda3/lib/python3.7/site-packages (from tensorboard<2.2.0,>=2.1.0->tensorflow-gpu) (0.4.1)\n",
      "Requirement already satisfied, skipping upgrade: google-auth<2,>=1.6.3 in ./anaconda3/lib/python3.7/site-packages (from tensorboard<2.2.0,>=2.1.0->tensorflow-gpu) (1.10.0)\n",
      "Requirement already satisfied, skipping upgrade: werkzeug>=0.11.15 in ./anaconda3/lib/python3.7/site-packages (from tensorboard<2.2.0,>=2.1.0->tensorflow-gpu) (0.16.0)\n",
      "Requirement already satisfied, skipping upgrade: requests<3,>=2.21.0 in ./anaconda3/lib/python3.7/site-packages (from tensorboard<2.2.0,>=2.1.0->tensorflow-gpu) (2.22.0)\n",
      "Requirement already satisfied, skipping upgrade: markdown>=2.6.8 in ./anaconda3/lib/python3.7/site-packages (from tensorboard<2.2.0,>=2.1.0->tensorflow-gpu) (3.1.1)\n",
      "Requirement already satisfied, skipping upgrade: h5py in ./anaconda3/lib/python3.7/site-packages (from keras-applications>=1.0.8->tensorflow-gpu) (2.9.0)\n",
      "Requirement already satisfied, skipping upgrade: requests-oauthlib>=0.7.0 in ./anaconda3/lib/python3.7/site-packages (from google-auth-oauthlib<0.5,>=0.4.1->tensorboard<2.2.0,>=2.1.0->tensorflow-gpu) (1.3.0)\n",
      "Requirement already satisfied, skipping upgrade: cachetools<5.0,>=2.0.0 in ./anaconda3/lib/python3.7/site-packages (from google-auth<2,>=1.6.3->tensorboard<2.2.0,>=2.1.0->tensorflow-gpu) (4.0.0)\n",
      "Requirement already satisfied, skipping upgrade: pyasn1-modules>=0.2.1 in ./anaconda3/lib/python3.7/site-packages (from google-auth<2,>=1.6.3->tensorboard<2.2.0,>=2.1.0->tensorflow-gpu) (0.2.8)\n",
      "Requirement already satisfied, skipping upgrade: rsa<4.1,>=3.1.4 in ./anaconda3/lib/python3.7/site-packages (from google-auth<2,>=1.6.3->tensorboard<2.2.0,>=2.1.0->tensorflow-gpu) (4.0)\n",
      "Requirement already satisfied, skipping upgrade: idna<2.9,>=2.5 in ./anaconda3/lib/python3.7/site-packages (from requests<3,>=2.21.0->tensorboard<2.2.0,>=2.1.0->tensorflow-gpu) (2.8)\n",
      "Requirement already satisfied, skipping upgrade: certifi>=2017.4.17 in ./anaconda3/lib/python3.7/site-packages (from requests<3,>=2.21.0->tensorboard<2.2.0,>=2.1.0->tensorflow-gpu) (2019.11.28)\n",
      "Requirement already satisfied, skipping upgrade: urllib3!=1.25.0,!=1.25.1,<1.26,>=1.21.1 in ./anaconda3/lib/python3.7/site-packages (from requests<3,>=2.21.0->tensorboard<2.2.0,>=2.1.0->tensorflow-gpu) (1.25.7)\n",
      "Requirement already satisfied, skipping upgrade: chardet<3.1.0,>=3.0.2 in ./anaconda3/lib/python3.7/site-packages (from requests<3,>=2.21.0->tensorboard<2.2.0,>=2.1.0->tensorflow-gpu) (3.0.4)\n",
      "Requirement already satisfied, skipping upgrade: oauthlib>=3.0.0 in ./anaconda3/lib/python3.7/site-packages (from requests-oauthlib>=0.7.0->google-auth-oauthlib<0.5,>=0.4.1->tensorboard<2.2.0,>=2.1.0->tensorflow-gpu) (3.1.0)\n",
      "Requirement already satisfied, skipping upgrade: pyasn1<0.5.0,>=0.4.6 in ./anaconda3/lib/python3.7/site-packages (from pyasn1-modules>=0.2.1->google-auth<2,>=1.6.3->tensorboard<2.2.0,>=2.1.0->tensorflow-gpu) (0.4.8)\n",
      "Requirement already satisfied: tensorflow-hub in ./anaconda3/lib/python3.7/site-packages (0.7.0)\n",
      "Requirement already satisfied: six>=1.10.0 in ./anaconda3/lib/python3.7/site-packages (from tensorflow-hub) (1.13.0)\n",
      "Requirement already satisfied: numpy>=1.12.0 in ./anaconda3/lib/python3.7/site-packages (from tensorflow-hub) (1.17.4)\n",
      "Requirement already satisfied: protobuf>=3.4.0 in ./anaconda3/lib/python3.7/site-packages (from tensorflow-hub) (3.11.2)\n",
      "Requirement already satisfied: setuptools in ./anaconda3/lib/python3.7/site-packages (from protobuf>=3.4.0->tensorflow-hub) (44.0.0.post20200106)\n",
      "Requirement already satisfied: seaborn in ./anaconda3/lib/python3.7/site-packages (0.9.0)\n",
      "Requirement already satisfied: scipy>=0.14.0 in ./anaconda3/lib/python3.7/site-packages (from seaborn) (1.4.1)\n",
      "Requirement already satisfied: matplotlib>=1.4.3 in ./anaconda3/lib/python3.7/site-packages (from seaborn) (3.1.1)\n",
      "Requirement already satisfied: pandas>=0.15.2 in ./anaconda3/lib/python3.7/site-packages (from seaborn) (0.25.3)\n",
      "Requirement already satisfied: numpy>=1.9.3 in ./anaconda3/lib/python3.7/site-packages (from seaborn) (1.17.4)\n",
      "Requirement already satisfied: cycler>=0.10 in ./anaconda3/lib/python3.7/site-packages (from matplotlib>=1.4.3->seaborn) (0.10.0)\n",
      "Requirement already satisfied: kiwisolver>=1.0.1 in ./anaconda3/lib/python3.7/site-packages (from matplotlib>=1.4.3->seaborn) (1.1.0)\n",
      "Requirement already satisfied: pyparsing!=2.0.4,!=2.1.2,!=2.1.6,>=2.0.1 in ./anaconda3/lib/python3.7/site-packages (from matplotlib>=1.4.3->seaborn) (2.4.6)\n",
      "Requirement already satisfied: python-dateutil>=2.1 in ./anaconda3/lib/python3.7/site-packages (from matplotlib>=1.4.3->seaborn) (2.8.0)\n",
      "Requirement already satisfied: pytz>=2017.2 in ./anaconda3/lib/python3.7/site-packages (from pandas>=0.15.2->seaborn) (2019.3)\n",
      "Requirement already satisfied: six in ./anaconda3/lib/python3.7/site-packages (from cycler>=0.10->matplotlib>=1.4.3->seaborn) (1.13.0)\n",
      "Requirement already satisfied: setuptools in ./anaconda3/lib/python3.7/site-packages (from kiwisolver>=1.0.1->matplotlib>=1.4.3->seaborn) (44.0.0.post20200106)\n"
     ]
    }
   ],
   "source": [
    "!pip install --upgrade tensorflow-gpu\n",
    "#Install TF-Hub.\n",
    "!pip install tensorflow-hub\n",
    "!pip install seaborn"
   ]
  },
  {
   "cell_type": "code",
   "execution_count": 34,
   "metadata": {},
   "outputs": [],
   "source": [
    "import pandas as pd\n",
    "import numpy as np\n",
    "import re, string\n",
    "import os \n",
    "import tensorflow as tf\n",
    "import tensorflow_hub as hub\n",
    "import matplotlib.pyplot as plt\n",
    "import seaborn as sns\n",
    "from sklearn.metrics.pairwise import linear_kernel"
   ]
  },
  {
   "cell_type": "code",
   "execution_count": 35,
   "metadata": {},
   "outputs": [
    {
     "name": "stdout",
     "output_type": "stream",
     "text": [
      "Version:  2.1.0\n",
      "Eager mode:  True\n",
      "Hub version:  0.7.0\n",
      "GPU is NOT AVAILABLE\n"
     ]
    }
   ],
   "source": [
    "print(\"Version: \", tf.__version__)\n",
    "print(\"Eager mode: \", tf.executing_eagerly())\n",
    "print(\"Hub version: \", hub.__version__)\n",
    "print(\"GPU is\", \"available\" if tf.config.experimental.list_physical_devices(\"GPU\") else \"NOT AVAILABLE\")"
   ]
  },
  {
   "cell_type": "markdown",
   "metadata": {},
   "source": [
    "### Load Google Universal sentence Encoder(DAN) Pretrained model"
   ]
  },
  {
   "cell_type": "code",
   "execution_count": 36,
   "metadata": {},
   "outputs": [
    {
     "name": "stdout",
     "output_type": "stream",
     "text": [
      "CPU times: user 4.36 s, sys: 1.19 s, total: 5.55 s\n",
      "Wall time: 13.2 s\n"
     ]
    }
   ],
   "source": [
    "#!mkdir /home/zettadevs/GoogleUSE Model\n",
    "#! curl -L -o 4.tar.gz \"https://tfhub.dev/google/universal-sentence-encoder/4?tf-hub-format=compressed\" \n",
    "#module_url = \"https://tfhub.dev/google/universal-sentence-encoder/4\"\n",
    "module_path =\"/home/zettadevs/GoogleUSEModel/USE_4\"\n",
    "%time model = hub.load(module_path)\n",
    "#print (\"module %s loaded\" % module_url)\n",
    "\n",
    "#Create function for using modeltraining\n",
    "def embed(input):\n",
    "    return model(input)"
   ]
  },
  {
   "cell_type": "markdown",
   "metadata": {},
   "source": [
    "### Use Case of Google USE"
   ]
  },
  {
   "cell_type": "code",
   "execution_count": 37,
   "metadata": {},
   "outputs": [],
   "source": [
    "def plot_similarity(labels, features, rotation):\n",
    "    corr = np.inner(features, features)\n",
    "    sns.set(font_scale=1.2)\n",
    "    g = sns.heatmap(\n",
    "      corr,\n",
    "      xticklabels=labels,\n",
    "      yticklabels=labels,\n",
    "      vmin=0,\n",
    "      vmax=1,\n",
    "      cmap=\"YlOrRd\")\n",
    "    g.set_xticklabels(labels, rotation=rotation)\n",
    "    g.set_title(\"Semantic Similarity\")"
   ]
  },
  {
   "cell_type": "code",
   "execution_count": 38,
   "metadata": {},
   "outputs": [],
   "source": [
    "def run_and_plot_U(messages_):\n",
    "    message_embeddings_ = embed(messages_)\n",
    "    plot_similarity(messages_, message_embeddings_, 90)"
   ]
  },
  {
   "cell_type": "code",
   "execution_count": 39,
   "metadata": {},
   "outputs": [],
   "source": [
    "def SimilarityScore(messages):\n",
    "    message_embedding = embed(messages)\n",
    "    corr = np.inner(message_embedding,message_embedding)\n",
    "    #for i, message_embedding in enumerate(np.array(message_embeddings).tolist()):\n",
    "    #    print(\"Message: {}\".format(messages[i]))\n",
    "    print(corr)"
   ]
  },
  {
   "cell_type": "markdown",
   "metadata": {},
   "source": [
    "### Use Case 1:- Word semantic"
   ]
  },
  {
   "cell_type": "code",
   "execution_count": 40,
   "metadata": {},
   "outputs": [],
   "source": [
    "WordMessage =['big data', 'millions of data', 'millions of records','cloud computing','aws','azure','saas','bank','account']"
   ]
  },
  {
   "cell_type": "code",
   "execution_count": 41,
   "metadata": {},
   "outputs": [
    {
     "data": {
      "image/png": "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\n",
      "text/plain": [
       "<Figure size 432x288 with 2 Axes>"
      ]
     },
     "metadata": {},
     "output_type": "display_data"
    }
   ],
   "source": [
    "run_and_plot_U(WordMessage)  # here 'big data' and 'millions od data' it's correlated score is between 0.6 to 0.5.\n",
    "                            # Even 'AWS' and 'Azure' are also b/w 0.6 to 0.5. As you can see below pic"
   ]
  },
  {
   "cell_type": "markdown",
   "metadata": {},
   "source": [
    "### Use Case 2: Sentence Semantic"
   ]
  },
  {
   "cell_type": "code",
   "execution_count": 42,
   "metadata": {},
   "outputs": [],
   "source": [
    "SentMessage =['How old are you?','what is your age?','how are you?','how you doing?']"
   ]
  },
  {
   "cell_type": "code",
   "execution_count": 43,
   "metadata": {},
   "outputs": [
    {
     "data": {
      "image/png": "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\n",
      "text/plain": [
       "<Figure size 432x288 with 2 Axes>"
      ]
     },
     "metadata": {},
     "output_type": "display_data"
    }
   ],
   "source": [
    "run_and_plot_U(SentMessage)"
   ]
  },
  {
   "cell_type": "markdown",
   "metadata": {},
   "source": [
    "### Use Case 3: Word,Sentence and paragram Semantic"
   ]
  },
  {
   "cell_type": "code",
   "execution_count": 44,
   "metadata": {},
   "outputs": [],
   "source": [
    "word ='Cloud computing'\n",
    "Sentence = 'what is cloud computing'\n",
    "Para =(\"Cloud computing is the latest generation technology with a high IT infrastructure that provides us a means by which we can use and utilize the applications as utilities via the internet.\"\n",
    "        \"Cloud computing makes IT infrastructure along with their services available 'on-need' basis.\" \n",
    "        \"The cloud technology includes - a development platform, hard disk, computing power, software application, and database.\")\n",
    "Para5 =(\n",
    "    \"Universal Sentence Encoder embeddings also support short paragraphs. \"\n",
    "    \"There is no hard limit on how long the paragraph is. Roughly, the longer \"\n",
    "    \"the more 'diluted' the embedding will be.\")\n",
    "Para6 =(\"Azure is a cloud computing platform which was launched by Microsoft in February 2010.\"\n",
    "       \"It is an open and flexible cloud platform which helps in development, data storage, service hosting, and service management.\"\n",
    "       \"The Azure tool hosts web applications over the internet with the help of Microsoft data centers.\")\n",
    "case4Message=[word,Sentence,Para,Para5,Para6]\n"
   ]
  },
  {
   "cell_type": "code",
   "execution_count": 45,
   "metadata": {},
   "outputs": [
    {
     "name": "stdout",
     "output_type": "stream",
     "text": [
      "[[ 1.          0.78288543  0.5078862   0.01781903  0.50382084]\n",
      " [ 0.78288543  1.0000002   0.5534511  -0.03384617  0.5246216 ]\n",
      " [ 0.5078862   0.5534511   1.0000001   0.05925356  0.58710706]\n",
      " [ 0.01781903 -0.03384617  0.05925356  0.9999999   0.01667345]\n",
      " [ 0.50382084  0.5246216   0.58710706  0.01667345  1.        ]]\n"
     ]
    }
   ],
   "source": [
    "SimilarityScore(case4Message)\n"
   ]
  },
  {
   "cell_type": "code",
   "execution_count": 163,
   "metadata": {},
   "outputs": [
    {
     "data": {
      "text/plain": [
       "11314"
      ]
     },
     "execution_count": 163,
     "metadata": {},
     "output_type": "execute_result"
    }
   ],
   "source": [
    "len(df_news.content)"
   ]
  },
  {
   "cell_type": "markdown",
   "metadata": {},
   "source": [
    "## Training the google use model batch wise chunk size 1000 rows"
   ]
  },
  {
   "cell_type": "code",
   "execution_count": 151,
   "metadata": {},
   "outputs": [
    {
     "name": "stdout",
     "output_type": "stream",
     "text": [
      "0 1000\n",
      "INFO:tensorflow:Assets written to: /home/zettadevs/GoogleUSEModel/TrainModel/1000/assets\n",
      "1000\n",
      "1000 2000\n",
      "INFO:tensorflow:Assets written to: /home/zettadevs/GoogleUSEModel/TrainModel/2000/assets\n",
      "2000\n",
      "2000 3000\n",
      "INFO:tensorflow:Assets written to: /home/zettadevs/GoogleUSEModel/TrainModel/3000/assets\n",
      "3000\n",
      "3000 4000\n",
      "INFO:tensorflow:Assets written to: /home/zettadevs/GoogleUSEModel/TrainModel/4000/assets\n",
      "4000\n",
      "4000 5000\n",
      "INFO:tensorflow:Assets written to: /home/zettadevs/GoogleUSEModel/TrainModel/5000/assets\n",
      "5000\n",
      "5000 6000\n",
      "INFO:tensorflow:Assets written to: /home/zettadevs/GoogleUSEModel/TrainModel/6000/assets\n",
      "6000\n",
      "6000 7000\n",
      "INFO:tensorflow:Assets written to: /home/zettadevs/GoogleUSEModel/TrainModel/7000/assets\n",
      "7000\n",
      "7000 8000\n",
      "INFO:tensorflow:Assets written to: /home/zettadevs/GoogleUSEModel/TrainModel/8000/assets\n",
      "8000\n",
      "8000 9000\n",
      "INFO:tensorflow:Assets written to: /home/zettadevs/GoogleUSEModel/TrainModel/9000/assets\n",
      "9000\n",
      "9000 10000\n",
      "INFO:tensorflow:Assets written to: /home/zettadevs/GoogleUSEModel/TrainModel/10000/assets\n",
      "10000\n",
      "10000 11000\n",
      "INFO:tensorflow:Assets written to: /home/zettadevs/GoogleUSEModel/TrainModel/11000/assets\n",
      "11000\n",
      "11000 11314\n",
      "INFO:tensorflow:Assets written to: /home/zettadevs/GoogleUSEModel/TrainModel/11314/assets\n",
      "11314\n"
     ]
    }
   ],
   "source": [
    "ls =[]\n",
    "chunksize =1000\n",
    "le =len(df_news.content)\n",
    "for i in range(0,le,chunksize):\n",
    "    if(i+chunksize > le): \n",
    "        chunksize= le;\n",
    "        ls.append(chunksize)\n",
    "    else:\n",
    "        a =i+chunksize\n",
    "        ls.append(a)\n",
    "ls\n",
    "j=0\n",
    "for i in ls:\n",
    "    directory = \"/home/zettadevs/GoogleUSEModel/TrainModel/\" + str(i)\n",
    "    if not os.path.exists(directory):\n",
    "        os.makedirs(directory)\n",
    "    directory = \"/home/zettadevs/GoogleUSEModel/TrainModel/\" + str(i)\n",
    "    print(j,i) \n",
    "    m=embed(df_news.content[j:i])\n",
    "    exported_m = tf.train.Checkpoint(v=tf.Variable(m))\n",
    "    exported_m.f = tf.function(\n",
    "    lambda  x: exported_m.v * x,\n",
    "    input_signature=[tf.TensorSpec(shape=None, dtype=tf.float32)])\n",
    "\n",
    "    tf.saved_model.save(exported_m,directory)\n",
    "    j = i\n",
    "    print(i)"
   ]
  },
  {
   "cell_type": "markdown",
   "metadata": {},
   "source": [
    "##  Batch wise Load the model"
   ]
  },
  {
   "cell_type": "code",
   "execution_count": 219,
   "metadata": {},
   "outputs": [
    {
     "name": "stdout",
     "output_type": "stream",
     "text": [
      "/home/zettadevs/GoogleUSEModel/TrainModel/1000\n",
      "/home/zettadevs/GoogleUSEModel/TrainModel/2000\n",
      "/home/zettadevs/GoogleUSEModel/TrainModel/3000\n",
      "/home/zettadevs/GoogleUSEModel/TrainModel/4000\n",
      "/home/zettadevs/GoogleUSEModel/TrainModel/5000\n",
      "/home/zettadevs/GoogleUSEModel/TrainModel/6000\n",
      "/home/zettadevs/GoogleUSEModel/TrainModel/7000\n",
      "/home/zettadevs/GoogleUSEModel/TrainModel/8000\n",
      "/home/zettadevs/GoogleUSEModel/TrainModel/9000\n",
      "/home/zettadevs/GoogleUSEModel/TrainModel/10000\n",
      "/home/zettadevs/GoogleUSEModel/TrainModel/11000\n",
      "/home/zettadevs/GoogleUSEModel/TrainModel/11314\n"
     ]
    }
   ],
   "source": [
    "ar =[]\n",
    "for i in ls:\n",
    "    directory = \"/home/zettadevs/GoogleUSEModel/TrainModel/\" + str(i)\n",
    "    if os.path.exists(directory):\n",
    "        print(directory)\n",
    "        imported_m = tf.saved_model.load(directory)\n",
    "        a= imported_m.v.numpy()\n",
    "        #print(a)\n",
    "        exec(f'load{i} = a')     "
   ]
  },
  {
   "cell_type": "markdown",
   "metadata": {},
   "source": [
    "## Concatenate the array from batchwise loaded model"
   ]
  },
  {
   "cell_type": "code",
   "execution_count": 222,
   "metadata": {},
   "outputs": [
    {
     "data": {
      "text/plain": [
       "(11314, 512)"
      ]
     },
     "execution_count": 222,
     "metadata": {},
     "output_type": "execute_result"
    }
   ],
   "source": [
    "con_a =np.concatenate((load1000, load2000,load3000,load4000,load5000,load6000,load7000,load8000,load9000,load10000,load11000,load11314))\n",
    "con_a.shape"
   ]
  },
  {
   "cell_type": "markdown",
   "metadata": {},
   "source": [
    "## Training the model for single time"
   ]
  },
  {
   "cell_type": "code",
   "execution_count": 126,
   "metadata": {},
   "outputs": [],
   "source": [
    "## training the model\n",
    "Model_USE= embed(df_news.content[0:2500])"
   ]
  },
  {
   "cell_type": "markdown",
   "metadata": {},
   "source": [
    "## Save model for single time"
   ]
  },
  {
   "cell_type": "code",
   "execution_count": 127,
   "metadata": {},
   "outputs": [
    {
     "name": "stdout",
     "output_type": "stream",
     "text": [
      "INFO:tensorflow:Assets written to: /home/zettadevs/GoogleUSEModel/TrainModel/assets\n"
     ]
    }
   ],
   "source": [
    "exported = tf.train.Checkpoint(v=tf.Variable(Model_USE))\n",
    "exported.f = tf.function(\n",
    "    lambda  x: exported.v * x,\n",
    "    input_signature=[tf.TensorSpec(shape=None, dtype=tf.float32)])\n",
    "\n",
    "tf.saved_model.save(exported,'/home/zettadevs/GoogleUSEModel/TrainModel')"
   ]
  },
  {
   "cell_type": "markdown",
   "metadata": {},
   "source": [
    "## Load model for single time"
   ]
  },
  {
   "cell_type": "code",
   "execution_count": 224,
   "metadata": {},
   "outputs": [
    {
     "data": {
      "text/plain": [
       "(2500, 512)"
      ]
     },
     "execution_count": 224,
     "metadata": {},
     "output_type": "execute_result"
    }
   ],
   "source": [
    "## Load Model\n",
    "imported = tf.saved_model.load('/home/zettadevs/GoogleUSEModel/TrainModel/')\n",
    "loadedmodel =imported.v.numpy()\n",
    "loadedmodel.shape"
   ]
  },
  {
   "cell_type": "markdown",
   "metadata": {},
   "source": [
    "## Create Function to get the top Similare document by giving input as a keyword or sentence."
   ]
  },
  {
   "cell_type": "code",
   "execution_count": 225,
   "metadata": {},
   "outputs": [],
   "source": [
    "def SearchDocument(query):\n",
    "    q =[query]\n",
    "    # embed the query for calcluating the similarity\n",
    "    Q_Train =embed(q)\n",
    "    \n",
    "    #imported_m = tf.saved_model.load('/home/zettadevs/GoogleUSEModel/TrainModel')\n",
    "    #loadedmodel =imported_m.v.numpy()\n",
    "    # Calculate the Similarity\n",
    "    linear_similarities = linear_kernel(Q_Train, con_a).flatten() \n",
    "    #Sort top 10 index with similarity score\n",
    "    Top_index_doc = linear_similarities.argsort()[:-11:-1]\n",
    "    # sort by similarity score\n",
    "    linear_similarities.sort()\n",
    "    a = pd.DataFrame()\n",
    "    for i,index in enumerate(Top_index_doc):\n",
    "        a.loc[i,'index'] = str(index)\n",
    "        a.loc[i,'File_Name'] = df_news['Subject'][index] ## Read File name with index from File_data DF\n",
    "    for j,simScore in enumerate(linear_similarities[:-11:-1]):\n",
    "        a.loc[j,'Score'] = simScore\n",
    "    return a\n"
   ]
  },
  {
   "cell_type": "code",
   "execution_count": 226,
   "metadata": {},
   "outputs": [
    {
     "data": {
      "text/html": [
       "<div>\n",
       "<style scoped>\n",
       "    .dataframe tbody tr th:only-of-type {\n",
       "        vertical-align: middle;\n",
       "    }\n",
       "\n",
       "    .dataframe tbody tr th {\n",
       "        vertical-align: top;\n",
       "    }\n",
       "\n",
       "    .dataframe thead th {\n",
       "        text-align: right;\n",
       "    }\n",
       "</style>\n",
       "<table border=\"1\" class=\"dataframe\">\n",
       "  <thead>\n",
       "    <tr style=\"text-align: right;\">\n",
       "      <th></th>\n",
       "      <th>index</th>\n",
       "      <th>File_Name</th>\n",
       "      <th>Score</th>\n",
       "    </tr>\n",
       "  </thead>\n",
       "  <tbody>\n",
       "    <tr>\n",
       "      <th>0</th>\n",
       "      <td>2231</td>\n",
       "      <td>2231 Computer Engr vs Computer Science</td>\n",
       "      <td>0.465967</td>\n",
       "    </tr>\n",
       "    <tr>\n",
       "      <th>1</th>\n",
       "      <td>4326</td>\n",
       "      <td>4326 Computer Engr vs Computer Science</td>\n",
       "      <td>0.446216</td>\n",
       "    </tr>\n",
       "    <tr>\n",
       "      <th>2</th>\n",
       "      <td>4527</td>\n",
       "      <td>4527 Honors Degrees Do they mean anything</td>\n",
       "      <td>0.427539</td>\n",
       "    </tr>\n",
       "    <tr>\n",
       "      <th>3</th>\n",
       "      <td>8920</td>\n",
       "      <td>8920 Honors Degrees Do they mean anything</td>\n",
       "      <td>0.415799</td>\n",
       "    </tr>\n",
       "    <tr>\n",
       "      <th>4</th>\n",
       "      <td>4366</td>\n",
       "      <td>4366 Computer Engr vs Computer Science</td>\n",
       "      <td>0.385471</td>\n",
       "    </tr>\n",
       "    <tr>\n",
       "      <th>5</th>\n",
       "      <td>8464</td>\n",
       "      <td>8464 Date is stuck</td>\n",
       "      <td>0.316040</td>\n",
       "    </tr>\n",
       "    <tr>\n",
       "      <th>6</th>\n",
       "      <td>1056</td>\n",
       "      <td>1056 New Computer Books for Sale</td>\n",
       "      <td>0.314108</td>\n",
       "    </tr>\n",
       "    <tr>\n",
       "      <th>7</th>\n",
       "      <td>5618</td>\n",
       "      <td>5618 Technical Books for sale X UNIX C C OS DB...</td>\n",
       "      <td>0.311888</td>\n",
       "    </tr>\n",
       "    <tr>\n",
       "      <th>8</th>\n",
       "      <td>8148</td>\n",
       "      <td>8148 Rendering Software for Multi processor Co...</td>\n",
       "      <td>0.302753</td>\n",
       "    </tr>\n",
       "    <tr>\n",
       "      <th>9</th>\n",
       "      <td>10460</td>\n",
       "      <td>10460 X window for PC</td>\n",
       "      <td>0.295158</td>\n",
       "    </tr>\n",
       "  </tbody>\n",
       "</table>\n",
       "</div>"
      ],
      "text/plain": [
       "   index                                          File_Name     Score\n",
       "0   2231             2231 Computer Engr vs Computer Science  0.465967\n",
       "1   4326             4326 Computer Engr vs Computer Science  0.446216\n",
       "2   4527          4527 Honors Degrees Do they mean anything  0.427539\n",
       "3   8920          8920 Honors Degrees Do they mean anything  0.415799\n",
       "4   4366             4366 Computer Engr vs Computer Science  0.385471\n",
       "5   8464                                 8464 Date is stuck  0.316040\n",
       "6   1056                   1056 New Computer Books for Sale  0.314108\n",
       "7   5618  5618 Technical Books for sale X UNIX C C OS DB...  0.311888\n",
       "8   8148  8148 Rendering Software for Multi processor Co...  0.302753\n",
       "9  10460                              10460 X window for PC  0.295158"
      ]
     },
     "execution_count": 226,
     "metadata": {},
     "output_type": "execute_result"
    }
   ],
   "source": [
    "SearchDocument('computer science')"
   ]
  },
  {
   "cell_type": "code",
   "execution_count": null,
   "metadata": {},
   "outputs": [],
   "source": []
  }
 ],
 "metadata": {
  "kernelspec": {
   "display_name": "Python 3",
   "language": "python",
   "name": "python3"
  },
  "language_info": {
   "codemirror_mode": {
    "name": "ipython",
    "version": 3
   },
   "file_extension": ".py",
   "mimetype": "text/x-python",
   "name": "python",
   "nbconvert_exporter": "python",
   "pygments_lexer": "ipython3",
   "version": "3.7.1"
  }
 },
 "nbformat": 4,
 "nbformat_minor": 2
}
